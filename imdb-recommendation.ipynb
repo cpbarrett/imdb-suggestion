{
 "cells": [
  {
   "cell_type": "code",
   "execution_count": 86,
   "metadata": {},
   "outputs": [],
   "source": [
    "import pandas as pd\n",
    "import numpy as np\n",
    "import matplotlib.pyplot as plt\n",
    "from sklearn.feature_extraction.text import TfidfVectorizer\n",
    "from sklearn.metrics.pairwise import linear_kernel\n",
    "from sklearn.metrics.pairwise import cosine_similarity"
   ]
  },
  {
   "cell_type": "code",
   "execution_count": 87,
   "metadata": {},
   "outputs": [],
   "source": [
    "df = pd.read_csv('data/IMDb movies.csv', low_memory = False)"
   ]
  },
  {
   "cell_type": "code",
   "execution_count": 88,
   "metadata": {},
   "outputs": [],
   "source": [
    "data = pd.DataFrame()"
   ]
  },
  {
   "cell_type": "code",
   "execution_count": 89,
   "metadata": {},
   "outputs": [],
   "source": [
    "c = df['avg_vote'].mean()"
   ]
  },
  {
   "cell_type": "code",
   "execution_count": 90,
   "metadata": {},
   "outputs": [],
   "source": [
    "m = df['votes'].quantile(0.60)"
   ]
  },
  {
   "cell_type": "code",
   "execution_count": 91,
   "metadata": {},
   "outputs": [],
   "source": [
    "data = df[df['votes'] >= m]"
   ]
  },
  {
   "cell_type": "code",
   "execution_count": 92,
   "metadata": {},
   "outputs": [],
   "source": [
    "score = []\n",
    "v = data['votes'].values\n",
    "r = data['avg_vote'].values"
   ]
  },
  {
   "cell_type": "code",
   "execution_count": 93,
   "metadata": {},
   "outputs": [],
   "source": [
    "def weighted_average(v, r, c, m):\n",
    "    s = ((v * r) / (v + m)) + ((m * c) / (v + m))\n",
    "    return s"
   ]
  },
  {
   "cell_type": "code",
   "execution_count": 94,
   "metadata": {},
   "outputs": [],
   "source": [
    "for i in range(len(v)):\n",
    "    score.append(weighted_average(v[i], r[i], c, m))"
   ]
  },
  {
   "cell_type": "code",
   "execution_count": 95,
   "metadata": {},
   "outputs": [
    {
     "name": "stderr",
     "output_type": "stream",
     "text": [
      "c:\\users\\parkore\\pycharmprojects\\barrettcapstone\\venv\\lib\\site-packages\\pandas\\core\\indexing.py:1596: SettingWithCopyWarning: \n",
      "A value is trying to be set on a copy of a slice from a DataFrame.\n",
      "Try using .loc[row_indexer,col_indexer] = value instead\n",
      "\n",
      "See the caveats in the documentation: https://pandas.pydata.org/pandas-docs/stable/user_guide/indexing.html#returning-a-view-versus-a-copy\n",
      "  self.obj[key] = _infer_fill_value(value)\n",
      "c:\\users\\parkore\\pycharmprojects\\barrettcapstone\\venv\\lib\\site-packages\\pandas\\core\\indexing.py:1743: SettingWithCopyWarning: \n",
      "A value is trying to be set on a copy of a slice from a DataFrame.\n",
      "Try using .loc[row_indexer,col_indexer] = value instead\n",
      "\n",
      "See the caveats in the documentation: https://pandas.pydata.org/pandas-docs/stable/user_guide/indexing.html#returning-a-view-versus-a-copy\n",
      "  isetter(ilocs[0], value)\n"
     ]
    }
   ],
   "source": [
    "data.loc[:, ('weighted_score')] = score"
   ]
  },
  {
   "cell_type": "code",
   "execution_count": 96,
   "metadata": {},
   "outputs": [],
   "source": [
    "data = data.sort_values('weighted_score', ascending = False)"
   ]
  },
  {
   "cell_type": "code",
   "execution_count": 97,
   "metadata": {},
   "outputs": [
    {
     "data": {
      "text/html": [
       "<div>\n",
       "<style scoped>\n",
       "    .dataframe tbody tr th:only-of-type {\n",
       "        vertical-align: middle;\n",
       "    }\n",
       "\n",
       "    .dataframe tbody tr th {\n",
       "        vertical-align: top;\n",
       "    }\n",
       "\n",
       "    .dataframe thead th {\n",
       "        text-align: right;\n",
       "    }\n",
       "</style>\n",
       "<table border=\"1\" class=\"dataframe\">\n",
       "  <thead>\n",
       "    <tr style=\"text-align: right;\">\n",
       "      <th></th>\n",
       "      <th>imdb_title_id</th>\n",
       "      <th>title</th>\n",
       "      <th>original_title</th>\n",
       "      <th>year</th>\n",
       "      <th>date_published</th>\n",
       "      <th>genre</th>\n",
       "      <th>duration</th>\n",
       "      <th>country</th>\n",
       "      <th>language</th>\n",
       "      <th>director</th>\n",
       "      <th>...</th>\n",
       "      <th>description</th>\n",
       "      <th>avg_vote</th>\n",
       "      <th>votes</th>\n",
       "      <th>budget</th>\n",
       "      <th>usa_gross_income</th>\n",
       "      <th>worldwide_gross_income</th>\n",
       "      <th>metascore</th>\n",
       "      <th>reviews_from_users</th>\n",
       "      <th>reviews_from_critics</th>\n",
       "      <th>weighted_score</th>\n",
       "    </tr>\n",
       "  </thead>\n",
       "  <tbody>\n",
       "    <tr>\n",
       "      <th>28453</th>\n",
       "      <td>tt0111161</td>\n",
       "      <td>Le ali della libertà</td>\n",
       "      <td>The Shawshank Redemption</td>\n",
       "      <td>1994</td>\n",
       "      <td>2/10/1995</td>\n",
       "      <td>Drama</td>\n",
       "      <td>142</td>\n",
       "      <td>USA</td>\n",
       "      <td>English</td>\n",
       "      <td>Frank Darabont</td>\n",
       "      <td>...</td>\n",
       "      <td>Two imprisoned men bond over a number of years...</td>\n",
       "      <td>9.3</td>\n",
       "      <td>2278845</td>\n",
       "      <td>$25,000,000</td>\n",
       "      <td>$28,699,976</td>\n",
       "      <td>$28,815,245</td>\n",
       "      <td>80.0</td>\n",
       "      <td>8232.0</td>\n",
       "      <td>164.0</td>\n",
       "      <td>9.298887</td>\n",
       "    </tr>\n",
       "    <tr>\n",
       "      <th>38406</th>\n",
       "      <td>tt0252487</td>\n",
       "      <td>Hababam Sinifi</td>\n",
       "      <td>Hababam Sinifi</td>\n",
       "      <td>1975</td>\n",
       "      <td>4/1/1975</td>\n",
       "      <td>Comedy, Drama</td>\n",
       "      <td>87</td>\n",
       "      <td>Turkey</td>\n",
       "      <td>Turkish</td>\n",
       "      <td>Ertem Egilmez</td>\n",
       "      <td>...</td>\n",
       "      <td>Lazy, uneducated students share a very close b...</td>\n",
       "      <td>9.3</td>\n",
       "      <td>36269</td>\n",
       "      <td>NaN</td>\n",
       "      <td>NaN</td>\n",
       "      <td>NaN</td>\n",
       "      <td>NaN</td>\n",
       "      <td>62.0</td>\n",
       "      <td>1.0</td>\n",
       "      <td>9.231449</td>\n",
       "    </tr>\n",
       "    <tr>\n",
       "      <th>15528</th>\n",
       "      <td>tt0068646</td>\n",
       "      <td>Il padrino</td>\n",
       "      <td>The Godfather</td>\n",
       "      <td>1972</td>\n",
       "      <td>9/21/1972</td>\n",
       "      <td>Crime, Drama</td>\n",
       "      <td>175</td>\n",
       "      <td>USA</td>\n",
       "      <td>English, Italian, Latin</td>\n",
       "      <td>Francis Ford Coppola</td>\n",
       "      <td>...</td>\n",
       "      <td>The aging patriarch of an organized crime dyna...</td>\n",
       "      <td>9.2</td>\n",
       "      <td>1572674</td>\n",
       "      <td>$6,000,000</td>\n",
       "      <td>$134,966,411</td>\n",
       "      <td>$246,120,974</td>\n",
       "      <td>100.0</td>\n",
       "      <td>3977.0</td>\n",
       "      <td>253.0</td>\n",
       "      <td>9.198435</td>\n",
       "    </tr>\n",
       "    <tr>\n",
       "      <th>48078</th>\n",
       "      <td>tt0468569</td>\n",
       "      <td>Il cavaliere oscuro</td>\n",
       "      <td>The Dark Knight</td>\n",
       "      <td>2008</td>\n",
       "      <td>7/23/2008</td>\n",
       "      <td>Action, Crime, Drama</td>\n",
       "      <td>152</td>\n",
       "      <td>USA, UK</td>\n",
       "      <td>English, Mandarin</td>\n",
       "      <td>Christopher Nolan</td>\n",
       "      <td>...</td>\n",
       "      <td>When the menace known as the Joker wreaks havo...</td>\n",
       "      <td>9.0</td>\n",
       "      <td>2241615</td>\n",
       "      <td>$185,000,000</td>\n",
       "      <td>$535,234,033</td>\n",
       "      <td>$1,005,455,211</td>\n",
       "      <td>84.0</td>\n",
       "      <td>6938.0</td>\n",
       "      <td>423.0</td>\n",
       "      <td>8.998968</td>\n",
       "    </tr>\n",
       "    <tr>\n",
       "      <th>16556</th>\n",
       "      <td>tt0071562</td>\n",
       "      <td>Il padrino - Parte II</td>\n",
       "      <td>The Godfather: Part II</td>\n",
       "      <td>1974</td>\n",
       "      <td>9/25/1975</td>\n",
       "      <td>Crime, Drama</td>\n",
       "      <td>202</td>\n",
       "      <td>USA</td>\n",
       "      <td>English, Italian, Spanish, Latin, Sicilian</td>\n",
       "      <td>Francis Ford Coppola</td>\n",
       "      <td>...</td>\n",
       "      <td>The early life and career of Vito Corleone in ...</td>\n",
       "      <td>9.0</td>\n",
       "      <td>1098714</td>\n",
       "      <td>$13,000,000</td>\n",
       "      <td>$47,834,595</td>\n",
       "      <td>$48,035,783</td>\n",
       "      <td>90.0</td>\n",
       "      <td>1030.0</td>\n",
       "      <td>178.0</td>\n",
       "      <td>8.997896</td>\n",
       "    </tr>\n",
       "  </tbody>\n",
       "</table>\n",
       "<p>5 rows × 23 columns</p>\n",
       "</div>"
      ],
      "text/plain": [
       "      imdb_title_id                  title            original_title  year  \\\n",
       "28453     tt0111161   Le ali della libertà  The Shawshank Redemption  1994   \n",
       "38406     tt0252487         Hababam Sinifi            Hababam Sinifi  1975   \n",
       "15528     tt0068646             Il padrino             The Godfather  1972   \n",
       "48078     tt0468569    Il cavaliere oscuro           The Dark Knight  2008   \n",
       "16556     tt0071562  Il padrino - Parte II    The Godfather: Part II  1974   \n",
       "\n",
       "      date_published                 genre  duration  country  \\\n",
       "28453      2/10/1995                 Drama       142      USA   \n",
       "38406       4/1/1975         Comedy, Drama        87   Turkey   \n",
       "15528      9/21/1972          Crime, Drama       175      USA   \n",
       "48078      7/23/2008  Action, Crime, Drama       152  USA, UK   \n",
       "16556      9/25/1975          Crime, Drama       202      USA   \n",
       "\n",
       "                                         language              director  ...  \\\n",
       "28453                                     English        Frank Darabont  ...   \n",
       "38406                                     Turkish         Ertem Egilmez  ...   \n",
       "15528                     English, Italian, Latin  Francis Ford Coppola  ...   \n",
       "48078                           English, Mandarin     Christopher Nolan  ...   \n",
       "16556  English, Italian, Spanish, Latin, Sicilian  Francis Ford Coppola  ...   \n",
       "\n",
       "                                             description avg_vote    votes  \\\n",
       "28453  Two imprisoned men bond over a number of years...      9.3  2278845   \n",
       "38406  Lazy, uneducated students share a very close b...      9.3    36269   \n",
       "15528  The aging patriarch of an organized crime dyna...      9.2  1572674   \n",
       "48078  When the menace known as the Joker wreaks havo...      9.0  2241615   \n",
       "16556  The early life and career of Vito Corleone in ...      9.0  1098714   \n",
       "\n",
       "              budget  usa_gross_income  worldwide_gross_income metascore  \\\n",
       "28453   $25,000,000       $28,699,976             $28,815,245       80.0   \n",
       "38406            NaN               NaN                     NaN       NaN   \n",
       "15528    $6,000,000      $134,966,411            $246,120,974      100.0   \n",
       "48078  $185,000,000      $535,234,033          $1,005,455,211       84.0   \n",
       "16556   $13,000,000       $47,834,595             $48,035,783       90.0   \n",
       "\n",
       "      reviews_from_users reviews_from_critics  weighted_score  \n",
       "28453             8232.0                164.0        9.298887  \n",
       "38406               62.0                  1.0        9.231449  \n",
       "15528             3977.0                253.0        9.198435  \n",
       "48078             6938.0                423.0        8.998968  \n",
       "16556             1030.0                178.0        8.997896  \n",
       "\n",
       "[5 rows x 23 columns]"
      ]
     },
     "execution_count": 97,
     "metadata": {},
     "output_type": "execute_result"
    }
   ],
   "source": [
    "data.head()"
   ]
  },
  {
   "cell_type": "code",
   "execution_count": 98,
   "metadata": {},
   "outputs": [
    {
     "data": {
      "text/plain": [
       "(34349, 39532)"
      ]
     },
     "execution_count": 98,
     "metadata": {},
     "output_type": "execute_result"
    }
   ],
   "source": [
    "# create tfidf\n",
    "tfidf = TfidfVectorizer(stop_words = 'english')\n",
    "\n",
    "# replace anything that is not a number with an empty string\n",
    "data['description'] = data['description'].fillna('')\n",
    "\n",
    "# fit and transform the data for TF-IDF matrix\n",
    "tfidf_matrix = tfidf.fit_transform(data['description'])\n",
    "\n",
    "# output tfidf_matrix shape\n",
    "tfidf_matrix.shape"
   ]
  },
  {
   "cell_type": "code",
   "execution_count": 99,
   "metadata": {},
   "outputs": [
    {
     "data": {
      "text/plain": [
       "['00',\n",
       " '000',\n",
       " '007',\n",
       " '00s',\n",
       " '01',\n",
       " '09',\n",
       " '10',\n",
       " '100',\n",
       " '1000',\n",
       " '10000',\n",
       " '1001',\n",
       " '100m',\n",
       " '100th',\n",
       " '101',\n",
       " '101st',\n",
       " '102',\n",
       " '1023',\n",
       " '104',\n",
       " '108',\n",
       " '109']"
      ]
     },
     "execution_count": 99,
     "metadata": {},
     "output_type": "execute_result"
    }
   ],
   "source": [
    "tfidf.get_feature_names()[0:20]"
   ]
  },
  {
   "cell_type": "code",
   "execution_count": 100,
   "metadata": {},
   "outputs": [],
   "source": [
    "cosine_sim = linear_kernel(tfidf_matrix, tfidf_matrix)"
   ]
  },
  {
   "cell_type": "code",
   "execution_count": 101,
   "metadata": {},
   "outputs": [
    {
     "data": {
      "text/plain": [
       "(34349, 34349)"
      ]
     },
     "execution_count": 101,
     "metadata": {},
     "output_type": "execute_result"
    }
   ],
   "source": [
    "cosine_sim.shape"
   ]
  },
  {
   "cell_type": "code",
   "execution_count": 103,
   "metadata": {},
   "outputs": [],
   "source": [
    "indices = pd.Series(data.index, index  = data['original_title']).drop_duplicates()"
   ]
  },
  {
   "cell_type": "code",
   "execution_count": 104,
   "metadata": {},
   "outputs": [
    {
     "data": {
      "text/plain": [
       "original_title\n",
       "The Shawshank Redemption                             28453\n",
       "Hababam Sinifi                                       38406\n",
       "The Godfather                                        15528\n",
       "The Dark Knight                                      48078\n",
       "The Godfather: Part II                               16556\n",
       "Aynabaji                                             77545\n",
       "Pulp Fiction                                         28381\n",
       "The Lord of the Rings: The Return of the King        34127\n",
       "Schindler's List                                     27629\n",
       "12 Angry Men                                          8973\n",
       "Hababam Sinifi Sinifta Kaldi                         38407\n",
       "Tosun Pasa                                           38490\n",
       "Maratonci trce pocasni krug                          20502\n",
       "Peranbu                                              83132\n",
       "Inception                                            57475\n",
       "Fight Club                                           32487\n",
       "Forrest Gump                                         28066\n",
       "The Lord of the Rings: The Fellowship of the Ring    31279\n",
       "Il buono, il brutto, il cattivo                      12567\n",
       "Süt Kardesler                                        38483\n",
       "dtype: int64"
      ]
     },
     "execution_count": 104,
     "metadata": {},
     "output_type": "execute_result"
    }
   ],
   "source": [
    "indices[:20]"
   ]
  },
  {
   "cell_type": "code",
   "execution_count": 129,
   "metadata": {},
   "outputs": [],
   "source": [
    "def recommendation(title):\n",
    "    idx = indices[title]\n",
    "    sim_scores = list(enumerate(cosine_sim[idx]))\n",
    "    sim_scores = sorted(sim_scores, key = lambda x: x[1], reverse = True)\n",
    "    sim_scores = sim_scores[1:11]\n",
    "    movie_indices = [i[0] for i in sim_scores]\n",
    "    movie_similarity = [i[1] for i in sim_scores]\n",
    "    return data['original_title'].iloc[movie_indices], movie_similarity"
   ]
  },
  {
   "cell_type": "code",
   "execution_count": 117,
   "metadata": {},
   "outputs": [
    {
     "name": "stdout",
     "output_type": "stream",
     "text": [
      "Please enter the movie name:Fight Club\n"
     ]
    }
   ],
   "source": [
    "movie = input('Please enter the movie name:')"
   ]
  },
  {
   "cell_type": "code",
   "execution_count": 130,
   "metadata": {},
   "outputs": [
    {
     "data": {
      "text/plain": [
       "(42848                                  Code 46\n",
       " 17567                              Logan's Run\n",
       " 21201                 Twilight Zone: The Movie\n",
       " 36641                                     2046\n",
       " 41569    The League of Extraordinary Gentlemen\n",
       " 46706                                The Queen\n",
       " 22988                 Amazon Women on the Moon\n",
       " 19925                         Galaxy of Terror\n",
       " 51892            The Day the Earth Stood Still\n",
       " 62316                                    Dropa\n",
       " Name: original_title, dtype: object,\n",
       " [0.3899116963932646,\n",
       "  0.2611243597598879,\n",
       "  0.24902963788838267,\n",
       "  0.23183502965018732,\n",
       "  0.23137181708994792,\n",
       "  0.22488170116965023,\n",
       "  0.21675132857623133,\n",
       "  0.21635412454006092,\n",
       "  0.214590327486521,\n",
       "  0.2054634237353824])"
      ]
     },
     "execution_count": 130,
     "metadata": {},
     "output_type": "execute_result"
    }
   ],
   "source": [
    "recommendation(movie)"
   ]
  }
 ],
 "metadata": {
  "kernelspec": {
   "display_name": "Python 3",
   "language": "python",
   "name": "python3"
  },
  "language_info": {
   "codemirror_mode": {
    "name": "ipython",
    "version": 3
   },
   "file_extension": ".py",
   "mimetype": "text/x-python",
   "name": "python",
   "nbconvert_exporter": "python",
   "pygments_lexer": "ipython3",
   "version": "3.7.7"
  }
 },
 "nbformat": 4,
 "nbformat_minor": 4
}
